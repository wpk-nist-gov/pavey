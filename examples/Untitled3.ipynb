{
 "cells": [
  {
   "cell_type": "code",
   "execution_count": 42,
   "metadata": {
    "collapsed": true
   },
   "outputs": [],
   "source": [
    "import pandas as pd\n",
    "import xarray as xr\n",
    "import numpy as np\n",
    "\n",
    "from __future__ import print_function\n",
    "import pavey"
   ]
  },
  {
   "cell_type": "code",
   "execution_count": 31,
   "metadata": {
    "collapsed": true
   },
   "outputs": [],
   "source": [
    "# random groupings\n",
    "def build_random_sample(X,samp_axis,min_chunk=4,max_chunk=20,shuffle=True):\n",
    "\n",
    "    nsamp = X.shape[samp_axis]\n",
    "    \n",
    "    idx = np.arange(nsamp)\n",
    "    if shuffle:\n",
    "        np.random.shuffle(idx)\n",
    "    \n",
    "    \n",
    "        \n",
    "    i0=0\n",
    "    i1=np.random.randint(min_chunk,max_chunk)\n",
    "    XA = []\n",
    "    while True:\n",
    "        XA.append(np.take(X,idx[i0:i1],axis=samp_axis))\n",
    "        if i1==nsamp:\n",
    "            break\n",
    "        i0 = i1\n",
    "        i1 += np.random.randint(min_chunk,max_chunk)\n",
    "        i1 = min(nsamp,i1)\n",
    "        \n",
    "    return XA"
   ]
  },
  {
   "cell_type": "code",
   "execution_count": 186,
   "metadata": {},
   "outputs": [],
   "source": [
    "# base data\n",
    "axis = 0\n",
    "\n",
    "v_np = np.random.rand(100,4)\n",
    "v_xr = xr.DataArray(v_np,dims=('x','y'))\n",
    "v_pd = v_xr.to_dataframe(name='v')['v']\n",
    "\n",
    "\n",
    "sample = build_random_sample(v_np, axis)\n",
    "ave = np.array([x.mean(axis) for x in sample])\n",
    "var = np.array([x.var(axis) for x in sample])\n",
    "wt = np.array([x.shape[axis] for x in sample])"
   ]
  },
  {
   "cell_type": "code",
   "execution_count": 214,
   "metadata": {
    "collapsed": true
   },
   "outputs": [],
   "source": [
    "X = v_np.T\n",
    "X -= X.mean(1)[:,None]"
   ]
  },
  {
   "cell_type": "code",
   "execution_count": 240,
   "metadata": {},
   "outputs": [],
   "source": [
    "dims = list(v_xr.dims)\n",
    "_ = dims.remove('x')\n",
    "r0 = dict(zip(dims, map(lambda x: x + '_0', dims)))\n",
    "r1 = dict(zip(dims, map(lambda x: x + '_1', dims)))\n",
    "\n"
   ]
  },
  {
   "cell_type": "code",
   "execution_count": 250,
   "metadata": {},
   "outputs": [],
   "source": [
    "x0 = v_xr.rename(r0)\n",
    "x1 = v_xr.rename(r1)"
   ]
  },
  {
   "cell_type": "code",
   "execution_count": 256,
   "metadata": {},
   "outputs": [
    {
     "data": {
      "text/plain": [
       "<xarray.DataArray (y_0: 4, y_1: 4)>\n",
       "array([[ 8.13463 ,  0.657419,  1.136866, -1.074879],\n",
       "       [ 0.657419,  7.909767,  1.075082,  0.905915],\n",
       "       [ 1.136866,  1.075082,  8.618421, -0.346577],\n",
       "       [-1.074879,  0.905915, -0.346577,  8.255462]])\n",
       "Dimensions without coordinates: y_0, y_1"
      ]
     },
     "execution_count": 256,
     "metadata": {},
     "output_type": "execute_result"
    }
   ],
   "source": [
    "x0.dot(x1)"
   ]
  },
  {
   "cell_type": "code",
   "execution_count": 257,
   "metadata": {},
   "outputs": [
    {
     "data": {
      "text/plain": [
       "<xarray.DataArray (y_0: 4, y_1: 4)>\n",
       "array([[ 0.081346,  0.006574,  0.011369, -0.010749],\n",
       "       [ 0.006574,  0.079098,  0.010751,  0.009059],\n",
       "       [ 0.011369,  0.010751,  0.086184, -0.003466],\n",
       "       [-0.010749,  0.009059, -0.003466,  0.082555]])\n",
       "Dimensions without coordinates: y_0, y_1"
      ]
     },
     "execution_count": 257,
     "metadata": {},
     "output_type": "execute_result"
    }
   ],
   "source": [
    "(x0 * x1).mean('x')"
   ]
  },
  {
   "cell_type": "code",
   "execution_count": 244,
   "metadata": {},
   "outputs": [
    {
     "data": {
      "text/plain": [
       "<xarray.DataArray ()>\n",
       "array(32.91828003665449)"
      ]
     },
     "execution_count": 244,
     "metadata": {},
     "output_type": "execute_result"
    }
   ],
   "source": [
    "v_xr.dot(v_xr)"
   ]
  },
  {
   "cell_type": "code",
   "execution_count": 238,
   "metadata": {},
   "outputs": [
    {
     "data": {
      "text/plain": [
       "<xarray.DataArray (x_0: 100, y_0: 4)>\n",
       "array([[-0.457548, -0.243828,  0.130556, -0.016882],\n",
       "       [-0.221269,  0.150712, -0.524698,  0.499147],\n",
       "       [-0.250976,  0.085459,  0.295354, -0.236381],\n",
       "       ..., \n",
       "       [-0.153244, -0.443865, -0.133151, -0.324366],\n",
       "       [-0.319026, -0.402579, -0.209883,  0.246809],\n",
       "       [-0.396466, -0.161654, -0.203841,  0.374956]])\n",
       "Dimensions without coordinates: x_0, y_0"
      ]
     },
     "execution_count": 238,
     "metadata": {},
     "output_type": "execute_result"
    }
   ],
   "source": [
    "v_xr.rename(r0) * v_xr.rename"
   ]
  },
  {
   "cell_type": "code",
   "execution_count": 234,
   "metadata": {},
   "outputs": [
    {
     "ename": "NameError",
     "evalue": "name 'dims1' is not defined",
     "output_type": "error",
     "traceback": [
      "\u001b[0;31m---------------------------------------------------------------------------\u001b[0m",
      "\u001b[0;31mNameError\u001b[0m                                 Traceback (most recent call last)",
      "\u001b[0;32m<ipython-input-234-e0fc0f642240>\u001b[0m in \u001b[0;36m<module>\u001b[0;34m()\u001b[0m\n\u001b[0;32m----> 1\u001b[0;31m \u001b[0mdims1\u001b[0m\u001b[0;34m\u001b[0m\u001b[0m\n\u001b[0m",
      "\u001b[0;31mNameError\u001b[0m: name 'dims1' is not defined"
     ]
    }
   ],
   "source": [
    "dims1\n"
   ]
  },
  {
   "cell_type": "code",
   "execution_count": 221,
   "metadata": {},
   "outputs": [
    {
     "data": {
      "text/plain": [
       "array([[ 0.0813463 ,  0.00657419,  0.01136866, -0.01074879],\n",
       "       [ 0.00657419,  0.07909767,  0.01075082,  0.00905915],\n",
       "       [ 0.01136866,  0.01075082,  0.08618421, -0.00346577],\n",
       "       [-0.01074879,  0.00905915, -0.00346577,  0.08255462]])"
      ]
     },
     "execution_count": 221,
     "metadata": {},
     "output_type": "execute_result"
    }
   ],
   "source": [
    "ddof=0\n",
    "fact = X.shape[1] - ddof\n",
    "np.dot(X,X.T.conj()) / fact"
   ]
  },
  {
   "cell_type": "code",
   "execution_count": 201,
   "metadata": {},
   "outputs": [
    {
     "data": {
      "text/plain": [
       "array([[ 0.0813463 ,  0.00657419,  0.01136866, -0.01074879],\n",
       "       [ 0.00657419,  0.07909767,  0.01075082,  0.00905915],\n",
       "       [ 0.01136866,  0.01075082,  0.08618421, -0.00346577],\n",
       "       [-0.01074879,  0.00905915, -0.00346577,  0.08255462]])"
      ]
     },
     "execution_count": 201,
     "metadata": {},
     "output_type": "execute_result"
    }
   ],
   "source": [
    "np.cov(v_np.T,ddof=0)"
   ]
  },
  {
   "cell_type": "code",
   "execution_count": 202,
   "metadata": {},
   "outputs": [
    {
     "data": {
      "text/plain": [
       "array([[ 0.0813463 ,  0.00657419,  0.01136866, -0.01074879],\n",
       "       [ 0.00657419,  0.07909767,  0.01075082,  0.00905915],\n",
       "       [ 0.01136866,  0.01075082,  0.08618421, -0.00346577],\n",
       "       [-0.01074879,  0.00905915, -0.00346577,  0.08255462]])"
      ]
     },
     "execution_count": 202,
     "metadata": {},
     "output_type": "execute_result"
    }
   ],
   "source": [
    "pavey.cov_nd(v_np, axis=0, ddof=0)"
   ]
  },
  {
   "cell_type": "code",
   "execution_count": 203,
   "metadata": {},
   "outputs": [
    {
     "data": {
      "text/plain": [
       "array([ 0.0813463 ,  0.07909767,  0.08618421,  0.08255462])"
      ]
     },
     "execution_count": 203,
     "metadata": {},
     "output_type": "execute_result"
    }
   ],
   "source": [
    "v_np.var(0)"
   ]
  },
  {
   "cell_type": "code",
   "execution_count": 215,
   "metadata": {
    "collapsed": true
   },
   "outputs": [],
   "source": [
    "%psource np.cov"
   ]
  },
  {
   "cell_type": "code",
   "execution_count": 109,
   "metadata": {},
   "outputs": [
    {
     "name": "stdout",
     "output_type": "stream",
     "text": [
      "mean is: [ 0.47711983  0.49040939  0.47524581  0.45797249]\n",
      "var  is: [ 0.08745301  0.08211158  0.08107752  0.0891661 ]\n"
     ]
    }
   ],
   "source": [
    "print('mean is:',v_np.mean(axis))\n",
    "print('var  is:',v_np.var(axis))"
   ]
  },
  {
   "cell_type": "code",
   "execution_count": 112,
   "metadata": {},
   "outputs": [],
   "source": [
    "r = pavey.RunningStatsVec.from_stats(wt, ave, var,axis=0)"
   ]
  },
  {
   "cell_type": "code",
   "execution_count": 115,
   "metadata": {},
   "outputs": [
    {
     "name": "stdout",
     "output_type": "stream",
     "text": [
      "weighted mean is: [ 0.47711983  0.49040939  0.47524581  0.45797249]\n",
      "weighted var  is: [ 0.08745301  0.08211158  0.08107752  0.0891661 ]\n",
      "weighted \n"
     ]
    }
   ],
   "source": [
    "print('weighted mean is:', r.mean())\n",
    "print('weighted var  is:', r.var())\n",
    "print('weighted ')"
   ]
  },
  {
   "cell_type": "markdown",
   "metadata": {},
   "source": [
    "# RunningStats works in a variety of ways:"
   ]
  },
  {
   "cell_type": "code",
   "execution_count": null,
   "metadata": {
    "collapsed": true
   },
   "outputs": [],
   "source": []
  },
  {
   "cell_type": "code",
   "execution_count": null,
   "metadata": {
    "collapsed": true
   },
   "outputs": [],
   "source": []
  },
  {
   "cell_type": "markdown",
   "metadata": {},
   "source": [
    "# RunningStats List"
   ]
  },
  {
   "cell_type": "code",
   "execution_count": 48,
   "metadata": {},
   "outputs": [],
   "source": [
    "r = pavey.RunningStatsList.from_stats(w=wt, a=ave, var=var)"
   ]
  },
  {
   "cell_type": "code",
   "execution_count": 86,
   "metadata": {},
   "outputs": [],
   "source": [
    "rm = r.combine(block_size=None)"
   ]
  },
  {
   "cell_type": "code",
   "execution_count": 91,
   "metadata": {},
   "outputs": [
    {
     "name": "stdout",
     "output_type": "stream",
     "text": [
      "mean is: [ 0.47368372]\n",
      "var  is: [ 0.09024512]\n"
     ]
    }
   ],
   "source": [
    "print('mean is:',rm.mean())\n",
    "print('var  is:',rm.var())"
   ]
  },
  {
   "cell_type": "markdown",
   "metadata": {},
   "source": [
    "# nan?"
   ]
  },
  {
   "cell_type": "code",
   "execution_count": 177,
   "metadata": {},
   "outputs": [],
   "source": [
    "n = 100\n",
    "v_np = np.random.rand(n,4)\n",
    "\n",
    "msk = (np.random.rand(n) > 0.8)\n",
    "v_np[msk] = np.nan\n",
    "\n",
    "\n",
    "v_xr = xr.DataArray(v_np,coords={'x':np.arange(n),'y':np.arange(4)},dims=('x','y'))\n",
    "v_pd = v_xr.to_dataframe(name='v')['v']\n",
    "#v_pd = pd.Series(v_np)"
   ]
  },
  {
   "cell_type": "code",
   "execution_count": null,
   "metadata": {
    "collapsed": true
   },
   "outputs": [],
   "source": []
  },
  {
   "cell_type": "code",
   "execution_count": 145,
   "metadata": {
    "collapsed": true
   },
   "outputs": [],
   "source": [
    "import bottleneck"
   ]
  },
  {
   "cell_type": "code",
   "execution_count": 146,
   "metadata": {},
   "outputs": [
    {
     "name": "stdout",
     "output_type": "stream",
     "text": [
      "nan\n",
      "0.484358808651\n",
      "0.484358808651\n"
     ]
    }
   ],
   "source": [
    "print(v_np.mean())\n",
    "print(np.nanmean(v_np))\n",
    "print(bottleneck.nanmean(v_np))\n"
   ]
  },
  {
   "cell_type": "code",
   "execution_count": 169,
   "metadata": {},
   "outputs": [
    {
     "data": {
      "text/plain": [
       "<xarray.DataArray (x: 100, y: 4)>\n",
       "array([[      nan,       nan,       nan,       nan],\n",
       "       [ 0.850103,  0.68067 ,  0.132077,  0.770434],\n",
       "       [ 0.175458,  0.596899,  0.28303 ,  0.852245],\n",
       "       ..., \n",
       "       [ 0.638981,  0.626607,  0.635223,  0.071265],\n",
       "       [ 0.777563,  0.079153,  0.255498,  0.392216],\n",
       "       [ 0.351051,  0.547302,  0.606576,  0.980819]])\n",
       "Dimensions without coordinates: x, y"
      ]
     },
     "execution_count": 169,
     "metadata": {},
     "output_type": "execute_result"
    }
   ],
   "source": [
    "v_xr"
   ]
  },
  {
   "cell_type": "code",
   "execution_count": 159,
   "metadata": {},
   "outputs": [
    {
     "data": {
      "text/plain": [
       "y\n",
       "0    0.523091\n",
       "1    0.441723\n",
       "2    0.433260\n",
       "3    0.539361\n",
       "Name: v, dtype: float64"
      ]
     },
     "execution_count": 159,
     "metadata": {},
     "output_type": "execute_result"
    }
   ],
   "source": [
    "v_pd.groupby('y').mean()"
   ]
  },
  {
   "cell_type": "code",
   "execution_count": 168,
   "metadata": {},
   "outputs": [
    {
     "data": {
      "text/plain": [
       "<xarray.DataArray (x: 100, y: 4)>\n",
       "array([[      nan,       nan,       nan,       nan],\n",
       "       [ 0.850103,  0.68067 ,  0.132077,  0.770434],\n",
       "       [ 0.175458,  0.596899,  0.28303 ,  0.852245],\n",
       "       ..., \n",
       "       [ 0.638981,  0.626607,  0.635223,  0.071265],\n",
       "       [ 0.777563,  0.079153,  0.255498,  0.392216],\n",
       "       [ 0.351051,  0.547302,  0.606576,  0.980819]])\n",
       "Dimensions without coordinates: x, y"
      ]
     },
     "execution_count": 168,
     "metadata": {},
     "output_type": "execute_result"
    }
   ],
   "source": [
    "np.zeros_like(v_xr) + v_xr"
   ]
  },
  {
   "cell_type": "code",
   "execution_count": 160,
   "metadata": {},
   "outputs": [
    {
     "data": {
      "text/plain": [
       "<xarray.DataArray (y: 4)>\n",
       "array([ 0.523091,  0.441723,  0.43326 ,  0.539361])\n",
       "Dimensions without coordinates: y"
      ]
     },
     "execution_count": 160,
     "metadata": {},
     "output_type": "execute_result"
    }
   ],
   "source": [
    "v_xr.mean(['x'])"
   ]
  },
  {
   "cell_type": "code",
   "execution_count": 125,
   "metadata": {},
   "outputs": [
    {
     "data": {
      "text/plain": [
       "<xarray.DataArray ()>\n",
       "array(0.5158197323572882)"
      ]
     },
     "execution_count": 125,
     "metadata": {},
     "output_type": "execute_result"
    }
   ],
   "source": [
    "v_xr.mean('x')"
   ]
  },
  {
   "cell_type": "code",
   "execution_count": null,
   "metadata": {
    "collapsed": true
   },
   "outputs": [],
   "source": []
  }
 ],
 "metadata": {
  "kernelspec": {
   "display_name": "Python [default]",
   "language": "python",
   "name": "python2"
  },
  "language_info": {
   "codemirror_mode": {
    "name": "ipython",
    "version": 2
   },
   "file_extension": ".py",
   "mimetype": "text/x-python",
   "name": "python",
   "nbconvert_exporter": "python",
   "pygments_lexer": "ipython2",
   "version": "2.7.13"
  },
  "toc": {
   "colors": {
    "hover_highlight": "#DAA520",
    "running_highlight": "#FF0000",
    "selected_highlight": "#FFD700"
   },
   "moveMenuLeft": true,
   "nav_menu": {
    "height": "66px",
    "width": "252px"
   },
   "navigate_menu": true,
   "number_sections": true,
   "sideBar": true,
   "threshold": 4,
   "toc_cell": false,
   "toc_section_display": "block",
   "toc_window_display": false,
   "widenNotebook": false
  }
 },
 "nbformat": 4,
 "nbformat_minor": 2
}
