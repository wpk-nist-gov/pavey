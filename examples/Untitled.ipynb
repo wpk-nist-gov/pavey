{
 "cells": [
  {
   "cell_type": "code",
   "execution_count": null,
   "metadata": {
    "collapsed": true
   },
   "outputs": [],
   "source": []
  },
  {
   "cell_type": "code",
   "execution_count": 1,
   "metadata": {
    "collapsed": true
   },
   "outputs": [],
   "source": [
    "import numpy as np"
   ]
  },
  {
   "cell_type": "code",
   "execution_count": 2,
   "metadata": {
    "collapsed": true
   },
   "outputs": [],
   "source": [
    "#make random data\n",
    "np.random.seed(0)\n",
    "#L = []\n",
    "L=[]\n",
    "for _ in range(10):\n",
    "    n=np.random.randint(5,100)\n",
    "    L.append(np.random.randn(n))"
   ]
  },
  {
   "cell_type": "code",
   "execution_count": 3,
   "metadata": {
    "collapsed": true
   },
   "outputs": [],
   "source": [
    "#make random data\n",
    "np.random.seed(0)\n",
    "#L = []\n",
    "L=[]\n",
    "for _ in range(10):\n",
    "    n=np.random.randint(5,100)\n",
    "    L.append(np.random.randn(n))\n",
    "    \n",
    "X = np.concatenate(L)"
   ]
  },
  {
   "cell_type": "code",
   "execution_count": 4,
   "metadata": {},
   "outputs": [],
   "source": [
    "def Weighted_Std(x,w,axis=None):\n",
    "    m1 = np.average(x,weights=w,axis=axis)\n",
    "    m2 = np.average(x**2,weights=w,axis=axis)\n",
    "    \n",
    "    w1 = w.sum()\n",
    "    w2 = (w**2).sum()\n",
    "    fac = w1**2/(w1**2-w2)\n",
    "    return m1,(m2-m1**2)*fac\n",
    "    "
   ]
  },
  {
   "cell_type": "code",
   "execution_count": 12,
   "metadata": {
    "collapsed": true
   },
   "outputs": [],
   "source": [
    "#import RunningStats as RS\n",
    "import pavey as RS"
   ]
  },
  {
   "cell_type": "code",
   "execution_count": 13,
   "metadata": {},
   "outputs": [
    {
     "data": {
      "text/plain": [
       "<module 'pavey' from '/Users/wpk/Documents/python/pavey/__init__.pyc'>"
      ]
     },
     "execution_count": 13,
     "metadata": {},
     "output_type": "execute_result"
    }
   ],
   "source": [
    "reload(RS)"
   ]
  },
  {
   "cell_type": "code",
   "execution_count": 10,
   "metadata": {},
   "outputs": [
    {
     "ename": "NameError",
     "evalue": "name 'xM' is not defined",
     "output_type": "error",
     "traceback": [
      "\u001b[0;31m---------------------------------------------------------------------------\u001b[0m",
      "\u001b[0;31mNameError\u001b[0m                                 Traceback (most recent call last)",
      "\u001b[0;32m<ipython-input-10-07c68440ef56>\u001b[0m in \u001b[0;36m<module>\u001b[0;34m()\u001b[0m\n\u001b[0;32m----> 1\u001b[0;31m \u001b[0mRS\u001b[0m\u001b[0;34m.\u001b[0m\u001b[0mweighted_var\u001b[0m\u001b[0;34m(\u001b[0m\u001b[0mxM\u001b[0m\u001b[0;34m,\u001b[0m\u001b[0mw\u001b[0m\u001b[0;34m)\u001b[0m\u001b[0;34m\u001b[0m\u001b[0m\n\u001b[0m",
      "\u001b[0;31mNameError\u001b[0m: name 'xM' is not defined"
     ]
    }
   ],
   "source": [
    "RS.weighted_var(xM,w)"
   ]
  },
  {
   "cell_type": "code",
   "execution_count": 14,
   "metadata": {
    "collapsed": true
   },
   "outputs": [],
   "source": [
    "#running average"
   ]
  },
  {
   "cell_type": "code",
   "execution_count": 17,
   "metadata": {
    "collapsed": true
   },
   "outputs": [],
   "source": [
    "t = RS.RunningStats()"
   ]
  },
  {
   "cell_type": "code",
   "execution_count": 15,
   "metadata": {},
   "outputs": [
    {
     "ename": "AttributeError",
     "evalue": "'RunningStats' object has no attribute 'PushAveVar'",
     "output_type": "error",
     "traceback": [
      "\u001b[0;31m---------------------------------------------------------------------------\u001b[0m",
      "\u001b[0;31mAttributeError\u001b[0m                            Traceback (most recent call last)",
      "\u001b[0;32m<ipython-input-15-fd4d1ca78845>\u001b[0m in \u001b[0;36m<module>\u001b[0;34m()\u001b[0m\n\u001b[1;32m      1\u001b[0m \u001b[0mt\u001b[0m \u001b[0;34m=\u001b[0m \u001b[0mRS\u001b[0m\u001b[0;34m.\u001b[0m\u001b[0mRunningStats\u001b[0m\u001b[0;34m(\u001b[0m\u001b[0;34m)\u001b[0m\u001b[0;34m\u001b[0m\u001b[0m\n\u001b[1;32m      2\u001b[0m \u001b[0;32mfor\u001b[0m \u001b[0mx\u001b[0m \u001b[0;32min\u001b[0m \u001b[0mL\u001b[0m\u001b[0;34m:\u001b[0m\u001b[0;34m\u001b[0m\u001b[0m\n\u001b[0;32m----> 3\u001b[0;31m     \u001b[0mt\u001b[0m\u001b[0;34m.\u001b[0m\u001b[0mPushAveVar\u001b[0m\u001b[0;34m(\u001b[0m\u001b[0mw\u001b[0m\u001b[0;34m=\u001b[0m\u001b[0mlen\u001b[0m\u001b[0;34m(\u001b[0m\u001b[0mx\u001b[0m\u001b[0;34m)\u001b[0m\u001b[0;34m,\u001b[0m \u001b[0mave\u001b[0m\u001b[0;34m=\u001b[0m\u001b[0mx\u001b[0m\u001b[0;34m.\u001b[0m\u001b[0mmean\u001b[0m\u001b[0;34m(\u001b[0m\u001b[0;34m)\u001b[0m\u001b[0;34m,\u001b[0m \u001b[0mvar\u001b[0m\u001b[0;34m=\u001b[0m\u001b[0mx\u001b[0m\u001b[0;34m.\u001b[0m\u001b[0mvar\u001b[0m\u001b[0;34m(\u001b[0m\u001b[0mddof\u001b[0m\u001b[0;34m=\u001b[0m\u001b[0;36m0\u001b[0m\u001b[0;34m)\u001b[0m\u001b[0;34m)\u001b[0m\u001b[0;34m\u001b[0m\u001b[0m\n\u001b[0m",
      "\u001b[0;31mAttributeError\u001b[0m: 'RunningStats' object has no attribute 'PushAveVar'"
     ]
    }
   ],
   "source": [
    "for x in L:\n",
    "    t.PushAveVar(w=len(x), ave=x.mean(), var=x.var(ddof=0))"
   ]
  },
  {
   "cell_type": "code",
   "execution_count": 295,
   "metadata": {},
   "outputs": [
    {
     "name": "stdout",
     "output_type": "stream",
     "text": [
      "-0.0719488920479\n",
      "1.0099652807\n",
      "1.00497028847\n",
      "1.00614363421\n",
      "0.0145502483371\n",
      "0.0558025752402\n"
     ]
    }
   ],
   "source": [
    "print t.Mean\n",
    "print t.Var\n",
    "print t.Std() \n",
    "print t.Std(d=1.) \n",
    "\n",
    "print t.VarInMean\n",
    "print t.VarInVar\n",
    "\n"
   ]
  },
  {
   "cell_type": "code",
   "execution_count": 303,
   "metadata": {},
   "outputs": [],
   "source": [
    "xx=np.random.rand(2,3,4)"
   ]
  },
  {
   "cell_type": "code",
   "execution_count": 315,
   "metadata": {},
   "outputs": [
    {
     "data": {
      "text/plain": [
       "3"
      ]
     },
     "execution_count": 315,
     "metadata": {},
     "output_type": "execute_result"
    }
   ],
   "source": [
    "xx.ndim"
   ]
  },
  {
   "cell_type": "code",
   "execution_count": 316,
   "metadata": {},
   "outputs": [
    {
     "data": {
      "text/plain": [
       "(4, 2, 3)"
      ]
     },
     "execution_count": 316,
     "metadata": {},
     "output_type": "execute_result"
    }
   ],
   "source": [
    "np.rollaxis(xx,xx.ndim-1,0).shape\n"
   ]
  },
  {
   "cell_type": "code",
   "execution_count": 297,
   "metadata": {},
   "outputs": [],
   "source": [
    "t = RS.RunningStats()\n",
    "for x in np.concatenate(L):\n",
    "    t.PushSingle(x)"
   ]
  },
  {
   "cell_type": "code",
   "execution_count": 298,
   "metadata": {},
   "outputs": [
    {
     "name": "stdout",
     "output_type": "stream",
     "text": [
      "-0.0719488920479\n",
      "1.0099652807\n",
      "1.00497028847\n",
      "1.00614363421\n",
      "1.01232501267\n",
      "0.0\n"
     ]
    }
   ],
   "source": [
    "print t.Mean\n",
    "print t.Var\n",
    "print t.Std() \n",
    "print t.Std(d=1.) \n",
    "\n",
    "print t.VarInMean\n",
    "print t.VarInVar\n",
    "\n"
   ]
  },
  {
   "cell_type": "code",
   "execution_count": 148,
   "metadata": {
    "collapsed": true
   },
   "outputs": [],
   "source": [
    "t = RS.RunningStats()\n",
    "for x in L:\n",
    "    t.PushArray(x)"
   ]
  },
  {
   "cell_type": "code",
   "execution_count": 149,
   "metadata": {},
   "outputs": [
    {
     "name": "stdout",
     "output_type": "stream",
     "text": [
      "-0.0719488920479\n",
      "1.0099652807\n",
      "1.00497028847\n",
      "1.00614363421\n",
      "0.0145502483371\n",
      "0.0558025752402\n"
     ]
    }
   ],
   "source": [
    "print t.Mean\n",
    "print t.Var\n",
    "print t.Std() \n",
    "print t.Std(d=1.) \n",
    "\n",
    "print t.VarInMean\n",
    "print t.VarInVar\n",
    "\n"
   ]
  },
  {
   "cell_type": "code",
   "execution_count": 154,
   "metadata": {
    "collapsed": true
   },
   "outputs": [],
   "source": [
    "t = RS.RunningStats()\n",
    "s=1\n",
    "for i in range(0,10,s):\n",
    "    x = np.concatenate(L[i:i+s])\n",
    "    t.PushArray(x)"
   ]
  },
  {
   "cell_type": "code",
   "execution_count": 155,
   "metadata": {},
   "outputs": [
    {
     "name": "stdout",
     "output_type": "stream",
     "text": [
      "-0.0719488920479\n",
      "1.0099652807\n",
      "1.00497028847\n",
      "1.00614363421\n",
      "0.0145502483371\n",
      "0.0558025752402\n"
     ]
    }
   ],
   "source": [
    "print t.Mean\n",
    "print t.Var\n",
    "print t.Std() \n",
    "print t.Std(d=1.) \n",
    "\n",
    "print t.VarInMean\n",
    "print t.VarInVar\n",
    "\n"
   ]
  },
  {
   "cell_type": "code",
   "execution_count": 123,
   "metadata": {},
   "outputs": [
    {
     "data": {
      "text/plain": [
       "<module 'RunningStats' from '/Users/wpk/Documents/python/RunningStats/__init__.pyc'>"
      ]
     },
     "execution_count": 123,
     "metadata": {},
     "output_type": "execute_result"
    }
   ],
   "source": [
    "reload(RS)"
   ]
  },
  {
   "cell_type": "code",
   "execution_count": 124,
   "metadata": {},
   "outputs": [],
   "source": [
    "xx = []\n",
    "for x in L:\n",
    "    xx.append([len(x),np.mean(x),np.var(x,ddof=0)])\n",
    "xx = np.array(xx)    "
   ]
  },
  {
   "cell_type": "code",
   "execution_count": 125,
   "metadata": {},
   "outputs": [],
   "source": [
    "W = xx[:,0]\n",
    "M = xx[:,1]\n",
    "V = xx[:,2]"
   ]
  },
  {
   "cell_type": "code",
   "execution_count": 142,
   "metadata": {},
   "outputs": [
    {
     "data": {
      "text/plain": [
       "(429.0, -0.071948892047883434, 1.0099652807010002)"
      ]
     },
     "execution_count": 142,
     "metadata": {},
     "output_type": "execute_result"
    }
   ],
   "source": [
    "RS.spliced_stats(ave=M,var=V,weights=W)"
   ]
  },
  {
   "cell_type": "code",
   "execution_count": 143,
   "metadata": {},
   "outputs": [
    {
     "name": "stdout",
     "output_type": "stream",
     "text": [
      "(-0.07194889204788342, 0.014550248337128882)\n",
      "(0.99730369240443673, 0.055802575240230058)\n"
     ]
    }
   ],
   "source": [
    "print RS.weighted_var(M,W)\n",
    "print RS.weighted_var(V,W)"
   ]
  },
  {
   "cell_type": "code",
   "execution_count": 128,
   "metadata": {},
   "outputs": [],
   "source": [
    "xx=[]\n",
    "s=4\n",
    "for i in range(0,len(W),s):\n",
    "    x = RS.spliced_stats(ave=M[i:i+s],var=V[i:i+s],weights=W[i:i+s])\n",
    "    xx.append(x)\n",
    "    \n",
    "xx = np.array(xx)    "
   ]
  },
  {
   "cell_type": "code",
   "execution_count": 129,
   "metadata": {},
   "outputs": [
    {
     "data": {
      "text/plain": [
       "array([[  1.69000000e+02,   8.77150681e-03,   9.96312384e-01],\n",
       "       [  1.22000000e+02,  -1.60496984e-01,   1.10161201e+00],\n",
       "       [  1.38000000e+02,  -9.25204876e-02,   9.30329759e-01]])"
      ]
     },
     "execution_count": 129,
     "metadata": {},
     "output_type": "execute_result"
    }
   ],
   "source": [
    "xx"
   ]
  },
  {
   "cell_type": "code",
   "execution_count": 130,
   "metadata": {},
   "outputs": [
    {
     "name": "stdout",
     "output_type": "stream",
     "text": [
      "(-0.07194889204788342, 0.0074686095823019803)\n",
      "(1.0050325514072669, 0.0067796312314202167)\n"
     ]
    }
   ],
   "source": [
    "print RS.weighted_var(xx[:,1],xx[:,0])\n",
    "print RS.weighted_var(xx[:,2],xx[:,0])"
   ]
  },
  {
   "cell_type": "code",
   "execution_count": 132,
   "metadata": {},
   "outputs": [
    {
     "name": "stdout",
     "output_type": "stream",
     "text": [
      "0.0\n",
      "0.0\n",
      "0.0\n",
      "0.0\n",
      "0.0\n"
     ]
    }
   ],
   "source": [
    "t2 = RS.RunningStats()\n",
    "for x in L:\n",
    "    t2.PushArray(x)\n",
    "print t2.Mean - t.Mean\n",
    "print t2.Var - t.Var\n",
    "print t2.Std() - t.Std()\n",
    "print t2.VarInMean - t.VarInMean\n",
    "print t2.VarInVar - t.VarInVar"
   ]
  },
  {
   "cell_type": "code",
   "execution_count": 278,
   "metadata": {},
   "outputs": [
    {
     "data": {
      "text/plain": [
       "<module 'RunningStats' from '/Users/wpk/Documents/python/RunningStats/__init__.py'>"
      ]
     },
     "execution_count": 278,
     "metadata": {},
     "output_type": "execute_result"
    }
   ],
   "source": [
    "reload(RS)"
   ]
  },
  {
   "cell_type": "code",
   "execution_count": 279,
   "metadata": {
    "collapsed": true
   },
   "outputs": [],
   "source": [
    "#adding\n",
    "t0 = RS.RunningStats()\n",
    "t1 = RS.RunningStats()\n",
    "for x in L[:5]: t0.PushArray(x)\n",
    "for x in L[5:]: t1.PushArray(x)"
   ]
  },
  {
   "cell_type": "code",
   "execution_count": 280,
   "metadata": {
    "collapsed": true
   },
   "outputs": [],
   "source": [
    "tt = t0 + t1"
   ]
  },
  {
   "cell_type": "code",
   "execution_count": 275,
   "metadata": {},
   "outputs": [
    {
     "data": {
      "text/plain": [
       "(-0.071948892047883434, -0.0064618708575709047)"
      ]
     },
     "execution_count": 275,
     "metadata": {},
     "output_type": "execute_result"
    }
   ],
   "source": [
    "t.Mean, tt.Mean"
   ]
  },
  {
   "cell_type": "code",
   "execution_count": 277,
   "metadata": {},
   "outputs": [
    {
     "data": {
      "text/plain": [
       "(0.01455024833712888, 0.011745538249986934)"
      ]
     },
     "execution_count": 277,
     "metadata": {},
     "output_type": "execute_result"
    }
   ],
   "source": [
    "t.VarInMean, tt.VarInMean"
   ]
  },
  {
   "cell_type": "code",
   "execution_count": 194,
   "metadata": {},
   "outputs": [],
   "source": [
    "tt = t1"
   ]
  },
  {
   "cell_type": "code",
   "execution_count": 209,
   "metadata": {
    "collapsed": true
   },
   "outputs": [],
   "source": [
    "tm = t - t0"
   ]
  },
  {
   "cell_type": "code",
   "execution_count": 221,
   "metadata": {},
   "outputs": [
    {
     "data": {
      "text/plain": [
       "3"
      ]
     },
     "execution_count": 221,
     "metadata": {},
     "output_type": "execute_result"
    }
   ],
   "source": [
    "10//3"
   ]
  },
  {
   "cell_type": "code",
   "execution_count": 264,
   "metadata": {
    "collapsed": true
   },
   "outputs": [],
   "source": [
    "L1 = []\n",
    "n0 = 10\n",
    "n1 = 5\n",
    "n2 = 100\n",
    "shape= (10,2)\n",
    "for _ in range(n0):\n",
    "            n = np.random.randint(n1,n2)\n",
    "            L1.append( np.random.randn( *( shape + (n,) ) ) )"
   ]
  },
  {
   "cell_type": "code",
   "execution_count": 266,
   "metadata": {},
   "outputs": [
    {
     "data": {
      "text/plain": [
       "(10, 2, 484)"
      ]
     },
     "execution_count": 266,
     "metadata": {},
     "output_type": "execute_result"
    }
   ],
   "source": [
    "np.concatenate(L1,axis=-1).shape"
   ]
  },
  {
   "cell_type": "code",
   "execution_count": 267,
   "metadata": {
    "collapsed": true
   },
   "outputs": [],
   "source": [
    "np.cov?"
   ]
  },
  {
   "cell_type": "code",
   "execution_count": 270,
   "metadata": {},
   "outputs": [
    {
     "data": {
      "text/plain": [
       "1"
      ]
     },
     "execution_count": 270,
     "metadata": {},
     "output_type": "execute_result"
    }
   ],
   "source": [
    "rowvar = None\n",
    "0  or 1"
   ]
  },
  {
   "cell_type": "code",
   "execution_count": 252,
   "metadata": {},
   "outputs": [
    {
     "ename": "ValueError",
     "evalue": "all the input array dimensions except for the concatenation axis must match exactly",
     "output_type": "error",
     "traceback": [
      "\u001b[0;31m---------------------------------------------------------------------------\u001b[0m",
      "\u001b[0;31mValueError\u001b[0m                                Traceback (most recent call last)",
      "\u001b[0;32m<ipython-input-252-1ebd39ff5ee5>\u001b[0m in \u001b[0;36m<module>\u001b[0;34m()\u001b[0m\n\u001b[1;32m      8\u001b[0m             \u001b[0mL1\u001b[0m\u001b[0;34m.\u001b[0m\u001b[0mappend\u001b[0m\u001b[0;34m(\u001b[0m \u001b[0mnp\u001b[0m\u001b[0;34m.\u001b[0m\u001b[0mrandom\u001b[0m\u001b[0;34m.\u001b[0m\u001b[0mrandn\u001b[0m\u001b[0;34m(\u001b[0m \u001b[0;34m*\u001b[0m\u001b[0;34m(\u001b[0m \u001b[0mshape\u001b[0m \u001b[0;34m+\u001b[0m \u001b[0;34m(\u001b[0m\u001b[0mn\u001b[0m\u001b[0;34m,\u001b[0m\u001b[0;34m)\u001b[0m \u001b[0;34m)\u001b[0m \u001b[0;34m)\u001b[0m \u001b[0;34m)\u001b[0m\u001b[0;34m\u001b[0m\u001b[0m\n\u001b[1;32m      9\u001b[0m \u001b[0;34m\u001b[0m\u001b[0m\n\u001b[0;32m---> 10\u001b[0;31m \u001b[0mX1\u001b[0m \u001b[0;34m=\u001b[0m \u001b[0mnp\u001b[0m\u001b[0;34m.\u001b[0m\u001b[0mhstack\u001b[0m\u001b[0;34m(\u001b[0m\u001b[0mL1\u001b[0m\u001b[0;34m)\u001b[0m\u001b[0;34m\u001b[0m\u001b[0m\n\u001b[0m",
      "\u001b[0;32m/opt/anaconda/lib/python2.7/site-packages/numpy/core/shape_base.pyc\u001b[0m in \u001b[0;36mhstack\u001b[0;34m(tup)\u001b[0m\n\u001b[1;32m    278\u001b[0m         \u001b[0;32mreturn\u001b[0m \u001b[0m_nx\u001b[0m\u001b[0;34m.\u001b[0m\u001b[0mconcatenate\u001b[0m\u001b[0;34m(\u001b[0m\u001b[0marrs\u001b[0m\u001b[0;34m,\u001b[0m \u001b[0;36m0\u001b[0m\u001b[0;34m)\u001b[0m\u001b[0;34m\u001b[0m\u001b[0m\n\u001b[1;32m    279\u001b[0m     \u001b[0;32melse\u001b[0m\u001b[0;34m:\u001b[0m\u001b[0;34m\u001b[0m\u001b[0m\n\u001b[0;32m--> 280\u001b[0;31m         \u001b[0;32mreturn\u001b[0m \u001b[0m_nx\u001b[0m\u001b[0;34m.\u001b[0m\u001b[0mconcatenate\u001b[0m\u001b[0;34m(\u001b[0m\u001b[0marrs\u001b[0m\u001b[0;34m,\u001b[0m \u001b[0;36m1\u001b[0m\u001b[0;34m)\u001b[0m\u001b[0;34m\u001b[0m\u001b[0m\n\u001b[0m\u001b[1;32m    281\u001b[0m \u001b[0;34m\u001b[0m\u001b[0m\n\u001b[1;32m    282\u001b[0m \u001b[0;32mdef\u001b[0m \u001b[0mstack\u001b[0m\u001b[0;34m(\u001b[0m\u001b[0marrays\u001b[0m\u001b[0;34m,\u001b[0m \u001b[0maxis\u001b[0m\u001b[0;34m=\u001b[0m\u001b[0;36m0\u001b[0m\u001b[0;34m)\u001b[0m\u001b[0;34m:\u001b[0m\u001b[0;34m\u001b[0m\u001b[0m\n",
      "\u001b[0;31mValueError\u001b[0m: all the input array dimensions except for the concatenation axis must match exactly"
     ]
    }
   ],
   "source": [
    "X1 = np.hstack(L1)"
   ]
  },
  {
   "cell_type": "code",
   "execution_count": 253,
   "metadata": {},
   "outputs": [
    {
     "data": {
      "text/plain": [
       "array([[[ 0.53730336, -0.76570219,  0.55578696, ..., -0.66771272,\n",
       "          1.68192174, -0.85258585],\n",
       "        [ 0.02295976, -0.01114561,  0.0114989 , ...,  0.9304085 ,\n",
       "         -0.1753164 , -1.42191987]],\n",
       "\n",
       "       [[ 1.99795608, -0.85654931, -1.5415874 , ...,  0.69042902,\n",
       "          0.79667211, -0.65792609],\n",
       "        [ 0.96888264,  0.22558166,  1.38914532, ...,  1.4333525 ,\n",
       "          0.41839801,  0.43554616]],\n",
       "\n",
       "       [[-0.59922428,  0.03308975, -0.85416126, ...,  0.73035179,\n",
       "          1.10457847, -1.01482591],\n",
       "        [-0.60233185,  0.9214084 ,  0.46081448, ...,  0.01879179,\n",
       "         -0.59377745, -2.01188032]],\n",
       "\n",
       "       ..., \n",
       "       [[-0.12656933, -0.36343778,  0.77905122, ...,  0.44721209,\n",
       "         -0.61612112,  0.46629004],\n",
       "        [ 1.71483161, -0.83218603,  0.17233914, ...,  0.41780058,\n",
       "         -1.24021634,  0.90005424]],\n",
       "\n",
       "       [[ 1.80224223, -0.2082851 ,  1.57437124, ..., -0.00592741,\n",
       "          1.36606007,  1.55511403],\n",
       "        [ 0.61332623, -0.28595915,  1.49691099, ..., -0.46189382,\n",
       "         -0.62649022,  1.71083658]],\n",
       "\n",
       "       [[ 1.41441504, -0.06366149, -1.57993053, ..., -1.01245715,\n",
       "          1.25056983, -0.23453803],\n",
       "        [-0.86335558, -1.03560573,  0.14166716, ...,  0.50666903,\n",
       "         -0.62222547, -1.52276809]]])"
      ]
     },
     "execution_count": 253,
     "metadata": {},
     "output_type": "execute_result"
    }
   ],
   "source": []
  },
  {
   "cell_type": "code",
   "execution_count": 244,
   "metadata": {},
   "outputs": [],
   "source": [
    "x = np.random.randn(4,4,5).reshape(-1,5)"
   ]
  },
  {
   "cell_type": "code",
   "execution_count": 251,
   "metadata": {},
   "outputs": [
    {
     "data": {
      "text/plain": [
       "array([[-1.17400109, -0.68756795,  1.27248032,  0.68687883,  1.64219518],\n",
       "       [-0.54378695,  0.56889809, -0.65665038,  0.83320048, -2.31712931],\n",
       "       [ 0.39005939,  0.78533769, -1.09745767,  0.21229541,  0.07747478],\n",
       "       [-0.4338056 , -0.13079258, -0.03621   , -2.05040084,  0.74046968],\n",
       "       [-0.08090047, -0.76792562,  1.07202237,  0.33554654,  0.6610014 ],\n",
       "       [-1.70160892, -0.26499288, -1.32275206,  0.32747602,  0.07440437],\n",
       "       [ 0.0410793 ,  1.2596372 ,  0.89166665,  0.50561711, -0.68341667],\n",
       "       [-0.87649106, -0.00561466,  1.46656234, -0.72579354, -1.73281749],\n",
       "       [ 0.69995928,  0.03200428,  0.21128828,  0.08739114,  0.65052474],\n",
       "       [-0.61872509,  0.08914477,  0.24414862, -0.84468071, -0.90257617],\n",
       "       [ 0.8167717 ,  0.69196854, -1.25528043,  1.25172295, -0.88174769],\n",
       "       [ 1.48999457,  0.49109938,  0.09023389, -0.05187748,  1.12758788],\n",
       "       [ 0.04003532, -1.23398409, -0.73024676, -2.47709741,  0.08630437],\n",
       "       [ 1.28191919, -0.47039149, -1.02290426,  1.16400249, -0.52741205],\n",
       "       [ 1.7893762 ,  0.61912602, -1.09854213,  0.5876279 ,  1.43347811],\n",
       "       [-1.03768013, -0.01190805, -0.04428329,  1.49951807, -0.01016516]])"
      ]
     },
     "execution_count": 251,
     "metadata": {},
     "output_type": "execute_result"
    }
   ],
   "source": [
    "np.cov(x,)"
   ]
  },
  {
   "cell_type": "code",
   "execution_count": 156,
   "metadata": {
    "collapsed": true
   },
   "outputs": [],
   "source": [
    "tt = t0+t1"
   ]
  },
  {
   "cell_type": "code",
   "execution_count": 196,
   "metadata": {},
   "outputs": [
    {
     "name": "stdout",
     "output_type": "stream",
     "text": [
      "0.0\n",
      "0.0\n",
      "0.0\n",
      "0.0\n",
      "0.0\n",
      "-1.38777878078e-17\n"
     ]
    }
   ],
   "source": [
    "print tt.Mean-t.Mean\n",
    "print tt.Var-t.Var\n",
    "print tt.Std()-t.Std()\n",
    "print tt.Std(d=1.)-t.Std(d=1.)\n",
    "print tt.VarInMean - t.VarInMean\n",
    "print tt.VarInVar - t.VarInVar"
   ]
  },
  {
   "cell_type": "code",
   "execution_count": 164,
   "metadata": {},
   "outputs": [],
   "source": [
    "t12 = t - t0"
   ]
  },
  {
   "cell_type": "code",
   "execution_count": null,
   "metadata": {
    "collapsed": true
   },
   "outputs": [],
   "source": []
  },
  {
   "cell_type": "code",
   "execution_count": 169,
   "metadata": {},
   "outputs": [
    {
     "name": "stdout",
     "output_type": "stream",
     "text": [
      "0.0\n",
      "0.0\n",
      "0.0\n",
      "0.00799944126475 0.00799944126475\n",
      "0.0705222517898 0.0705222517898\n"
     ]
    }
   ],
   "source": [
    "print t12.Mean - t1.Mean\n",
    "print t12.Var - t1.Var\n",
    "print t12.Std() - t1.Std()\n",
    "print t12.VarInMean,t1.VarInMean\n",
    "print t12.VarInVar,t1.VarInVar"
   ]
  },
  {
   "cell_type": "code",
   "execution_count": 163,
   "metadata": {},
   "outputs": [
    {
     "data": {
      "text/plain": [
       "1.0047224980557292"
      ]
     },
     "execution_count": 163,
     "metadata": {},
     "output_type": "execute_result"
    }
   ],
   "source": [
    "t1.Var"
   ]
  },
  {
   "cell_type": "code",
   "execution_count": 161,
   "metadata": {},
   "outputs": [
    {
     "data": {
      "text/plain": [
       "-0.10929595907176887"
      ]
     },
     "execution_count": 161,
     "metadata": {},
     "output_type": "execute_result"
    }
   ],
   "source": [
    "tt2.Mean"
   ]
  },
  {
   "cell_type": "code",
   "execution_count": 321,
   "metadata": {},
   "outputs": [
    {
     "name": "stdout",
     "output_type": "stream",
     "text": [
      "[(4, 49), (4, 10), (4, 14), (4, 9), (4, 95), (4, 90), (4, 50), (4, 47), (4, 96), (4, 76)]\n",
      "(4, 536)\n"
     ]
    }
   ],
   "source": [
    "#make random data\n",
    "np.random.seed(0)\n",
    "#L = []\n",
    "L=[]\n",
    "for _ in range(10):\n",
    "    n=np.random.randint(5,100)\n",
    "    L.append(np.random.randn(4,n))\n",
    "X=np.hstack(L)\n",
    "print [x.shape for x in L]\n",
    "print X.shape"
   ]
  },
  {
   "cell_type": "code",
   "execution_count": 323,
   "metadata": {},
   "outputs": [
    {
     "data": {
      "text/plain": [
       "(4, 536)"
      ]
     },
     "execution_count": 323,
     "metadata": {},
     "output_type": "execute_result"
    }
   ],
   "source": [
    "X.shape"
   ]
  },
  {
   "cell_type": "code",
   "execution_count": 324,
   "metadata": {},
   "outputs": [
    {
     "data": {
      "text/plain": [
       "(4, 49)"
      ]
     },
     "execution_count": 324,
     "metadata": {},
     "output_type": "execute_result"
    }
   ],
   "source": [
    "L[0].shape"
   ]
  },
  {
   "cell_type": "code",
   "execution_count": 325,
   "metadata": {},
   "outputs": [
    {
     "name": "stdout",
     "output_type": "stream",
     "text": [
      "[ 0.05379051 -0.01356595 -0.0374074   0.06129336]\n",
      "[ 0.99559774  0.92140911  1.04518372  1.0981343 ]\n",
      "[ 0.99779644  0.95990057  1.02234227  1.04791903]\n",
      "1.00864129162\n",
      "[ 0.02932735  0.02264334  0.01821863  0.01933503]\n",
      "[ 0.04375269  0.05257799  0.0741917   0.05984047]\n"
     ]
    }
   ],
   "source": [
    "print np.mean(X,axis=-1)\n",
    "print np.var(X,axis=-1)\n",
    "print np.std(X,axis=-1)\n",
    "print np.std(X,ddof=1)\n",
    "\n",
    "w = np.array([x.shape[-1] for x in L]).astype(float)\n",
    "xx = np.array([np.mean(x,axis=-1) for x in L])\n",
    "print Weighted_Std(xx,w,axis=0)[-1]\n",
    "xx = np.array([np.var(x,axis=-1) for x in L])\n",
    "print Weighted_Std(xx,w,axis=0)[-1]"
   ]
  },
  {
   "cell_type": "code",
   "execution_count": 327,
   "metadata": {},
   "outputs": [],
   "source": [
    "tL=[]\n",
    "for i in range(L[0].shape[0]):\n",
    "    tL.append(RS.RunningStats())\n",
    "    \n",
    "for x in L:\n",
    "    for i in range(L[0].shape[0]):\n",
    "        tL[i].push_vals(x[i,:])"
   ]
  },
  {
   "cell_type": "code",
   "execution_count": 329,
   "metadata": {},
   "outputs": [
    {
     "name": "stdout",
     "output_type": "stream",
     "text": [
      "[0.053790506107382501, -0.013565953064206725, -0.037407398631313163, 0.061293357130864583]\n",
      "[0.99559773569860543, 0.92140911208492871, 1.0451837161038431, 1.0981342988650329]\n",
      "[0.9977964400109901, 0.95990057406219353, 1.0223422695476516, 1.0479190325903203]\n",
      "[0.99872852469813123, 0.96079725858659548, 1.0232972835527645, 1.048897938952855]\n"
     ]
    }
   ],
   "source": [
    "print [t.mean() for t in tL]\n",
    "print [t.var() for t in tL]\n",
    "print [t.std() for t in tL]\n",
    "print [t.std(1.) for t in tL]\n"
   ]
  },
  {
   "cell_type": "code",
   "execution_count": 330,
   "metadata": {},
   "outputs": [],
   "source": [
    "reload(RS)\n",
    "tV1 = RS.RunningStatsVec(shape=(4,))\n",
    "for x in L:\n",
    "    tV1.push_vals(x)"
   ]
  },
  {
   "cell_type": "code",
   "execution_count": 333,
   "metadata": {},
   "outputs": [
    {
     "name": "stdout",
     "output_type": "stream",
     "text": [
      "[ 0.05379051 -0.01356595 -0.0374074   0.06129336]\n",
      "[ 0.99559774  0.92140911  1.04518372  1.0981343 ]\n",
      "[ 0.99779644  0.95990057  1.02234227  1.04791903]\n",
      "[ 0.99872852  0.96079726  1.02329728  1.04889794]\n"
     ]
    }
   ],
   "source": [
    "print tV1.mean()\n",
    "print tV1.var()\n",
    "print tV1.std()\n",
    "print tV1.std(1.)\n",
    "# print tV1.VarInMean\n",
    "# print tV1.VarInVar"
   ]
  },
  {
   "cell_type": "code",
   "execution_count": 334,
   "metadata": {},
   "outputs": [],
   "source": [
    "reload(RS)\n",
    "tV1 = RS.RunningStatsVecCov(l=4)\n",
    "for x in L:\n",
    "    tV1.push_vals(x)"
   ]
  },
  {
   "cell_type": "code",
   "execution_count": 337,
   "metadata": {},
   "outputs": [
    {
     "name": "stdout",
     "output_type": "stream",
     "text": [
      "[ 0.05379051 -0.01356595 -0.0374074   0.06129336]\n",
      "[ 0.99559774  0.92140911  1.04518372  1.0981343 ]\n",
      "[ 0.99779644  0.95990057  1.02234227  1.04791903]\n",
      "[ 0.99872852  0.96079726  1.02329728  1.04889794]\n"
     ]
    }
   ],
   "source": [
    "print tV1.mean()\n",
    "print tV1.var()\n",
    "print tV1.std()\n",
    "print tV1.std(1.)\n",
    "# print tV1.VarInMean\n",
    "# print tV1.VarInVar"
   ]
  },
  {
   "cell_type": "code",
   "execution_count": 343,
   "metadata": {},
   "outputs": [
    {
     "data": {
      "text/plain": [
       "array([[ 0.99559774, -0.0031198 ,  0.07252561,  0.06840879],\n",
       "       [-0.0031198 ,  0.92140911, -0.01537517,  0.0012748 ],\n",
       "       [ 0.07252561, -0.01537517,  1.04518372, -0.01670212],\n",
       "       [ 0.06840879,  0.0012748 , -0.01670212,  1.0981343 ]])"
      ]
     },
     "execution_count": 343,
     "metadata": {},
     "output_type": "execute_result"
    }
   ],
   "source": [
    "tV1.cov()"
   ]
  },
  {
   "cell_type": "code",
   "execution_count": 342,
   "metadata": {},
   "outputs": [
    {
     "data": {
      "text/plain": [
       "array([[ 0.99559774, -0.0031198 ,  0.07252561,  0.06840879],\n",
       "       [-0.0031198 ,  0.92140911, -0.01537517,  0.0012748 ],\n",
       "       [ 0.07252561, -0.01537517,  1.04518372, -0.01670212],\n",
       "       [ 0.06840879,  0.0012748 , -0.01670212,  1.0981343 ]])"
      ]
     },
     "execution_count": 342,
     "metadata": {},
     "output_type": "execute_result"
    }
   ],
   "source": [
    "np.cov(X,ddof=0)"
   ]
  },
  {
   "cell_type": "code",
   "execution_count": 348,
   "metadata": {},
   "outputs": [],
   "source": [
    "tV2 = RS.RunningStatsVecCov(l=4)\n",
    "for x in L:\n",
    "    for xx in x.T:\n",
    "        tV2.push_val(xx)"
   ]
  },
  {
   "cell_type": "code",
   "execution_count": 352,
   "metadata": {},
   "outputs": [
    {
     "name": "stdout",
     "output_type": "stream",
     "text": [
      "[ 0.05379051 -0.01356595 -0.0374074   0.06129336]\n",
      "[ 0.99559774  0.92140911  1.04518372  1.0981343 ]\n",
      "[ 0.99779644  0.95990057  1.02234227  1.04791903]\n",
      "[ 0.99872852  0.96079726  1.02329728  1.04889794]\n"
     ]
    }
   ],
   "source": [
    "print tV2.mean()\n",
    "print tV2.var()\n",
    "print tV2.std()\n",
    "print tV2.std(1.)"
   ]
  },
  {
   "cell_type": "code",
   "execution_count": 353,
   "metadata": {},
   "outputs": [
    {
     "data": {
      "text/plain": [
       "array([[ 0.99559774, -0.0031198 ,  0.07252561,  0.06840879],\n",
       "       [-0.0031198 ,  0.92140911, -0.01537517,  0.0012748 ],\n",
       "       [ 0.07252561, -0.01537517,  1.04518372, -0.01670212],\n",
       "       [ 0.06840879,  0.0012748 , -0.01670212,  1.0981343 ]])"
      ]
     },
     "execution_count": 353,
     "metadata": {},
     "output_type": "execute_result"
    }
   ],
   "source": [
    "tV2.cov()"
   ]
  },
  {
   "cell_type": "code",
   "execution_count": null,
   "metadata": {
    "collapsed": true
   },
   "outputs": [],
   "source": [
    "tV2 = RS.Runn"
   ]
  },
  {
   "cell_type": "code",
   "execution_count": 928,
   "metadata": {},
   "outputs": [],
   "source": [
    "reload(RS)\n",
    "t0 = RS.RunningStatsVecCov(l=4)\n",
    "t1 = RS.RunningStatsVecCov(l=4)\n",
    "for x in L[:5]:\n",
    "    t0.PushArray(x)\n",
    "for x in L[5:]:\n",
    "    t1.PushArray(x)\n",
    "    \n",
    "tV1 = t0+t1"
   ]
  },
  {
   "cell_type": "code",
   "execution_count": 929,
   "metadata": {},
   "outputs": [
    {
     "name": "stdout",
     "output_type": "stream",
     "text": [
      "[ 0.05379051 -0.01356595 -0.0374074   0.06129336]\n",
      "[ 0.99559774  0.92140911  1.04518372  1.0981343 ]\n",
      "[ 0.99779644  0.95990057  1.02234227  1.04791903]\n",
      "[ 0.99872852  0.96079726  1.02329728  1.04889794]\n",
      "[ 0.02932735  0.02264334  0.01821863  0.01933503]\n",
      "[ 0.04375269  0.05257799  0.0741917   0.05984047]\n"
     ]
    }
   ],
   "source": [
    "print tV1.Mean\n",
    "print tV1.Var\n",
    "print tV1.Std()\n",
    "print tV1.Std(d=1.)\n",
    "print tV1.VarInMean\n",
    "print tV1.VarInVar"
   ]
  },
  {
   "cell_type": "code",
   "execution_count": 930,
   "metadata": {},
   "outputs": [
    {
     "data": {
      "text/plain": [
       "array([[ 0.04375269,  0.02081407,  0.02421034,  0.04802766],\n",
       "       [ 0.02081407,  0.05257799,  0.01916374,  0.00553009],\n",
       "       [ 0.02421034,  0.01916374,  0.0741917 ,  0.0415887 ],\n",
       "       [ 0.04802766,  0.00553009,  0.0415887 ,  0.05984047]])"
      ]
     },
     "execution_count": 930,
     "metadata": {},
     "output_type": "execute_result"
    }
   ],
   "source": [
    "tV1.VarInCov"
   ]
  },
  {
   "cell_type": "code",
   "execution_count": 917,
   "metadata": {},
   "outputs": [
    {
     "name": "stdout",
     "output_type": "stream",
     "text": [
      "[ 0.05379051 -0.01356595 -0.0374074   0.06129336]\n",
      "[ 0.99559774  0.92140911  1.04518372  1.0981343 ]\n",
      "[ 0.99779644  0.95990057  1.02234227  1.04791903]\n",
      "1.00864129162\n",
      "[ 0.02932735  0.02264334  0.01821863  0.01933503]\n",
      "[ 0.04375269  0.05257799  0.0741917   0.05984047]\n",
      "[[ 0.04375269  0.02081407  0.02421034  0.04802766]\n",
      " [ 0.02081407  0.05257799  0.01916374  0.00553009]\n",
      " [ 0.02421034  0.01916374  0.0741917   0.0415887 ]\n",
      " [ 0.04802766  0.00553009  0.0415887   0.05984047]]\n"
     ]
    }
   ],
   "source": [
    "print np.mean(X,axis=-1)\n",
    "print np.var(X,axis=-1)\n",
    "print np.std(X,axis=-1)\n",
    "print np.std(X,ddof=1)\n",
    "\n",
    "w = np.array([x.shape[-1] for x in L]).astype(float)\n",
    "xx = np.array([np.mean(x,axis=-1) for x in L])\n",
    "print Weighted_Std(xx,w,axis=0)[-1]\n",
    "xx = np.array([np.var(x,axis=-1) for x in L])\n",
    "print Weighted_Std(xx,w,axis=0)[-1]\n",
    "\n",
    "xx = np.array([np.cov(x,ddof=0) for x in L])\n",
    "print Weighted_Std(xx,w,axis=0)[-1]\n"
   ]
  },
  {
   "cell_type": "code",
   "execution_count": null,
   "metadata": {
    "collapsed": true
   },
   "outputs": [],
   "source": []
  }
 ],
 "metadata": {
  "kernelspec": {
   "display_name": "Python [default]",
   "language": "python",
   "name": "python2"
  },
  "language_info": {
   "codemirror_mode": {
    "name": "ipython",
    "version": 2
   },
   "file_extension": ".py",
   "mimetype": "text/x-python",
   "name": "python",
   "nbconvert_exporter": "python",
   "pygments_lexer": "ipython2",
   "version": "2.7.13"
  },
  "toc": {
   "colors": {
    "hover_highlight": "#DAA520",
    "running_highlight": "#FF0000",
    "selected_highlight": "#FFD700"
   },
   "moveMenuLeft": true,
   "nav_menu": {
    "height": "12px",
    "width": "252px"
   },
   "navigate_menu": true,
   "number_sections": true,
   "sideBar": true,
   "threshold": 4,
   "toc_cell": false,
   "toc_section_display": "block",
   "toc_window_display": false,
   "widenNotebook": false
  }
 },
 "nbformat": 4,
 "nbformat_minor": 1
}
