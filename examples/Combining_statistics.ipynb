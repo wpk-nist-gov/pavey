{
 "cells": [
  {
   "cell_type": "markdown",
   "metadata": {},
   "source": [
    "# Combining statistics\n",
    "\n",
    "At it's core, pavey is a set of routines to combine statistics with arbitrary weights.  This is accomplished through objects of `RunningStats...`.  There are three varieties of such objects:\n",
    "\n",
    " * `RunningStats` is for scalar averages/variances\n",
    " \n",
    " * `RunningStatsVec` is for arrays of averages/variances\n",
    " \n",
    " * `RunningStatsVecCov` is for arrays of averages/covariances\n",
    " \n"
   ]
  },
  {
   "cell_type": "markdown",
   "metadata": {},
   "source": [
    "# Scalar data"
   ]
  },
  {
   "cell_type": "code",
   "execution_count": 11,
   "metadata": {
    "collapsed": true
   },
   "outputs": [],
   "source": [
    "from __future__ import print_function\n",
    "import pavey\n",
    "import numpy as np"
   ]
  },
  {
   "cell_type": "markdown",
   "metadata": {},
   "source": [
    "Make synthetic data:"
   ]
  },
  {
   "cell_type": "code",
   "execution_count": 5,
   "metadata": {
    "collapsed": true
   },
   "outputs": [],
   "source": [
    "# set seed for consistency\n",
    "np.random.seed(0)\n",
    "\n",
    "# make collection of random samples \n",
    "min_size = 5\n",
    "max_size = 100\n",
    "nchunks = 10\n",
    "\n",
    "X = []\n",
    "for _ in range(nchunks):\n",
    "    n = np.random.randint(min_size, max_size)\n",
    "    x = np.random.rand(n)\n",
    "    X.append(x)\n"
   ]
  },
  {
   "cell_type": "code",
   "execution_count": 8,
   "metadata": {},
   "outputs": [
    {
     "name": "stdout",
     "output_type": "stream",
     "text": [
      "[49, 17, 5, 26, 7, 57, 32, 80, 92, 51]\n"
     ]
    }
   ],
   "source": [
    "# data has different weigths for each sample\n",
    "print [len(x) for x in X]"
   ]
  },
  {
   "cell_type": "code",
   "execution_count": 14,
   "metadata": {},
   "outputs": [
    {
     "name": "stdout",
     "output_type": "stream",
     "text": [
      "shape (416,)\n",
      "mean 0.47698086027\n",
      "var 0.0829144085845\n"
     ]
    }
   ],
   "source": [
    "# lets check the total statistics:\n",
    "Xa = np.concatenate(X)\n",
    "\n",
    "print('shape', Xa.shape)\n",
    "print('mean', Xa.mean())\n",
    "print('var', Xa.var(ddof=0))"
   ]
  },
  {
   "cell_type": "markdown",
   "metadata": {},
   "source": [
    "But what if instead of the raw data, we only had access to the individual statistics for each chunck"
   ]
  },
  {
   "cell_type": "code",
   "execution_count": 20,
   "metadata": {
    "collapsed": true
   },
   "outputs": [],
   "source": [
    "c_mean = [x.mean() for x in X]\n",
    "c_var = [x.var(ddof=0) for x in X]\n",
    "c_weight = [x.size for x in X]"
   ]
  },
  {
   "cell_type": "markdown",
   "metadata": {},
   "source": [
    "How do we combine these?\n",
    "\n",
    "That's where pavey comes it!"
   ]
  },
  {
   "cell_type": "markdown",
   "metadata": {},
   "source": [
    "## data from a stream\n",
    "\n",
    "lets assume that the data comes in one at a time from another process.  How doe we combine?"
   ]
  },
  {
   "cell_type": "code",
   "execution_count": 31,
   "metadata": {
    "collapsed": true
   },
   "outputs": [],
   "source": [
    "rs = pavey.RunningStats()"
   ]
  },
  {
   "cell_type": "code",
   "execution_count": 32,
   "metadata": {},
   "outputs": [
    {
     "name": "stdout",
     "output_type": "stream",
     "text": [
      "Help on method push_stat in module pavey:\n",
      "\n",
      "push_stat(self, w, a, v) method of pavey.RunningStats instance\n",
      "    accumulate statistics\n",
      "    \n",
      "    Parameters\n",
      "    ----------\n",
      "    w : int or array broadcastable to a.shape\n",
      "        weight of sample\n",
      "    \n",
      "    a : array shape == self.shape\n",
      "        averages\n",
      "    v : array shape == self.var_shape\n",
      "\n"
     ]
    }
   ],
   "source": [
    "help(rs.push_stat)"
   ]
  },
  {
   "cell_type": "code",
   "execution_count": 33,
   "metadata": {},
   "outputs": [],
   "source": [
    "for (m, v, w) in zip(c_mean, c_var, c_weight):\n",
    "    rs.push_stat(w=w,a=m, v=v)"
   ]
  },
  {
   "cell_type": "code",
   "execution_count": 40,
   "metadata": {},
   "outputs": [
    {
     "name": "stdout",
     "output_type": "stream",
     "text": [
      "total weight: 416.0\n",
      "total mean: 0.47698086027\n",
      "total var: 0.0829144085845\n"
     ]
    }
   ],
   "source": [
    "print('total weight:', rs.weight())\n",
    "print('total mean:', rs.mean())\n",
    "print('total var:', rs.var())\n",
    "\n",
    "np.testing.assert_allclose(rs.weight(), Xa.shape)\n",
    "np.testing.assert_allclose(rs.mean(), Xa.mean())\n",
    "np.testing.assert_allclose(rs.var(), Xa.var())"
   ]
  },
  {
   "cell_type": "markdown",
   "metadata": {},
   "source": [
    "These are exactly the same as before!"
   ]
  },
  {
   "cell_type": "markdown",
   "metadata": {},
   "source": [
    "## combining in one go"
   ]
  },
  {
   "cell_type": "markdown",
   "metadata": {},
   "source": [
    "Often, we have data with arbitrary weights that we want to combine in one go.  `pavey` does this as well."
   ]
  },
  {
   "cell_type": "code",
   "execution_count": 45,
   "metadata": {},
   "outputs": [
    {
     "data": {
      "text/plain": [
       "<module 'pavey' from '/Users/wpk/Documents/python/pavey/__init__.py'>"
      ]
     },
     "execution_count": 45,
     "metadata": {},
     "output_type": "execute_result"
    }
   ],
   "source": [
    "reload(pavey)"
   ]
  },
  {
   "cell_type": "code",
   "execution_count": 48,
   "metadata": {},
   "outputs": [
    {
     "name": "stdout",
     "output_type": "stream",
     "text": [
      "total weight: 416.0\n",
      "total mean: 0.47698086027\n",
      "total var: 0.0829144085845\n"
     ]
    }
   ],
   "source": [
    "rs = pavey.RunningStats()\n",
    "\n",
    "rs.push_stats(w=c_weight, a=c_mean, v=c_var)\n",
    "\n",
    "print('total weight:', rs.weight())\n",
    "print('total mean:', rs.mean())\n",
    "print('total var:', rs.var())\n",
    "\n",
    "np.testing.assert_allclose(rs.weight(), Xa.shape)\n",
    "np.testing.assert_allclose(rs.mean(), Xa.mean())\n",
    "np.testing.assert_allclose(rs.var(), Xa.var())"
   ]
  },
  {
   "cell_type": "markdown",
   "metadata": {},
   "source": [
    "Again, everything lines up"
   ]
  },
  {
   "cell_type": "markdown",
   "metadata": {},
   "source": [
    "# Vector data\n",
    "\n",
    "pavey works with arbitrary shaped arrays of stats as well!"
   ]
  },
  {
   "cell_type": "code",
   "execution_count": 49,
   "metadata": {
    "collapsed": true
   },
   "outputs": [],
   "source": [
    "import random\n",
    "\n",
    "def build_random_sample(X,samp_axis,min_chunk=4,max_chunk=20,shuffle=True):\n",
    "\n",
    "    nsamp = X.shape[samp_axis]\n",
    "    \n",
    "    idx = np.arange(nsamp)\n",
    "    if shuffle:\n",
    "        np.random.shuffle(idx)\n",
    "    \n",
    "    \n",
    "        \n",
    "    i0=0\n",
    "    i1=np.random.randint(min_chunk,max_chunk)\n",
    "    XA = []\n",
    "    while True:\n",
    "        XA.append(np.take(X,idx[i0:i1],axis=samp_axis))\n",
    "        if i1==nsamp:\n",
    "            break\n",
    "        i0 = i1\n",
    "        i1 += np.random.randint(min_chunk,max_chunk)\n",
    "        i1 = min(nsamp,i1)\n",
    "        \n",
    "    return XA\n",
    "    "
   ]
  },
  {
   "cell_type": "code",
   "execution_count": 62,
   "metadata": {},
   "outputs": [],
   "source": [
    "# random data\n",
    "Xa = np.random.rand(1000, 4, 3)\n",
    "\n",
    "# random chunked data\n",
    "X = build_random_sample(Xa, samp_axis=0)\n",
    "\n"
   ]
  },
  {
   "cell_type": "code",
   "execution_count": 63,
   "metadata": {},
   "outputs": [
    {
     "name": "stdout",
     "output_type": "stream",
     "text": [
      "[15, 7, 8, 6, 19, 12, 19, 14, 14, 6, 17, 4, 13, 6, 5, 15, 9, 6, 9, 16, 13, 17, 9, 15, 18, 18, 15, 13, 16, 8, 12, 13, 6, 19, 19, 14, 8, 18, 7, 17, 5, 14, 9, 12, 13, 18, 12, 17, 18, 6, 11, 18, 8, 7, 13, 15, 4, 9, 5, 5, 14, 18, 17, 16, 12, 10, 7, 18, 19, 6, 10, 6, 14, 6, 19, 12, 12, 10, 12, 15, 7, 8, 10, 8]\n"
     ]
    }
   ],
   "source": [
    "# chunk sizes\n",
    "print([x.shape[0] for x in X])"
   ]
  },
  {
   "cell_type": "code",
   "execution_count": 78,
   "metadata": {},
   "outputs": [
    {
     "name": "stdout",
     "output_type": "stream",
     "text": [
      "mean\n",
      "[[ 0.49408035  0.48503188  0.49670518]\n",
      " [ 0.49295237  0.49641412  0.51238468]\n",
      " [ 0.48979702  0.5091747   0.50774389]\n",
      " [ 0.47583748  0.51021223  0.50774218]]\n",
      "var\n",
      "[[ 0.08825941  0.08361924  0.07953972]\n",
      " [ 0.08204253  0.08275827  0.08462381]\n",
      " [ 0.08397126  0.08090412  0.08093979]\n",
      " [ 0.0821092   0.08374404  0.08350601]]\n",
      "shape (1000, 4, 3)\n"
     ]
    }
   ],
   "source": [
    "print('mean')\n",
    "print(Xa.mean(axis=0))\n",
    "print('var')\n",
    "print(Xa.var(axis=0,ddof=0))\n",
    "print('shape', Xa.shape)\n"
   ]
  },
  {
   "cell_type": "markdown",
   "metadata": {},
   "source": [
    "### chunked data means"
   ]
  },
  {
   "cell_type": "code",
   "execution_count": 71,
   "metadata": {
    "collapsed": true
   },
   "outputs": [],
   "source": [
    "c_mean = [x.mean(axis=0) for x in X]\n",
    "c_var = [x.var(axis=0,ddof=0) for x in X]\n",
    "c_weight = [x.shape[0] for x in X]"
   ]
  },
  {
   "cell_type": "code",
   "execution_count": 72,
   "metadata": {},
   "outputs": [
    {
     "name": "stdout",
     "output_type": "stream",
     "text": [
      "[array([[ 0.50178533,  0.38311372,  0.49453173],\n",
      "       [ 0.45362144,  0.46688966,  0.47385183],\n",
      "       [ 0.54882738,  0.44084563,  0.42191511],\n",
      "       [ 0.47496761,  0.55322164,  0.45717714]]), array([[ 0.33130108,  0.3481571 ,  0.47438233],\n",
      "       [ 0.44898375,  0.34353588,  0.50111139],\n",
      "       [ 0.61900463,  0.46750933,  0.5868955 ],\n",
      "       [ 0.43118281,  0.60157466,  0.43293204]])]\n"
     ]
    }
   ],
   "source": [
    "print(c_mean[0:2])"
   ]
  },
  {
   "cell_type": "markdown",
   "metadata": {},
   "source": [
    "Lets combine our data in stream"
   ]
  },
  {
   "cell_type": "code",
   "execution_count": 74,
   "metadata": {},
   "outputs": [],
   "source": [
    "rs = pavey.RunningStatsVec(shape=(4,3))"
   ]
  },
  {
   "cell_type": "code",
   "execution_count": 75,
   "metadata": {
    "collapsed": true
   },
   "outputs": [],
   "source": [
    "for (m, v, w) in zip(c_mean, c_var, c_weight):\n",
    "    rs.push_stat(w=w,a=m,v=v)"
   ]
  },
  {
   "cell_type": "code",
   "execution_count": 84,
   "metadata": {},
   "outputs": [
    {
     "name": "stdout",
     "output_type": "stream",
     "text": [
      "total mean\n",
      "[[ 0.49408035  0.48503188  0.49670518]\n",
      " [ 0.49295237  0.49641412  0.51238468]\n",
      " [ 0.48979702  0.5091747   0.50774389]\n",
      " [ 0.47583748  0.51021223  0.50774218]]\n",
      "total var\n",
      "[[ 0.08825941  0.08361924  0.07953972]\n",
      " [ 0.08204253  0.08275827  0.08462381]\n",
      " [ 0.08397126  0.08090412  0.08093979]\n",
      " [ 0.0821092   0.08374404  0.08350601]]\n",
      "total weight\n",
      "[[ 1000.  1000.  1000.]\n",
      " [ 1000.  1000.  1000.]\n",
      " [ 1000.  1000.  1000.]\n",
      " [ 1000.  1000.  1000.]]\n"
     ]
    }
   ],
   "source": [
    "print('total mean')\n",
    "print(rs.mean())\n",
    "\n",
    "print('total var')\n",
    "print(rs.var())\n",
    "\n",
    "print('total weight')\n",
    "print(rs.weight())\n",
    "\n",
    "np.testing.assert_allclose(rs.weight(), Xa.shape[0])\n",
    "np.testing.assert_allclose(rs.mean(), Xa.mean(axis=0))\n",
    "np.testing.assert_allclose(rs.var(), Xa.var(axis=0))"
   ]
  },
  {
   "cell_type": "markdown",
   "metadata": {},
   "source": [
    "* All good!\n",
    "* Note that weights have been broadcast to the shape of mean/var.  Different wieghts can apply to different dimensions if desired"
   ]
  },
  {
   "cell_type": "markdown",
   "metadata": {},
   "source": [
    "### one go"
   ]
  },
  {
   "cell_type": "code",
   "execution_count": 86,
   "metadata": {
    "collapsed": true
   },
   "outputs": [],
   "source": [
    "rs = pavey.RunningStatsVec(shape=(4,3))\n",
    "rs.push_stats(w=c_weight, a=c_mean, v=c_var)"
   ]
  },
  {
   "cell_type": "code",
   "execution_count": 87,
   "metadata": {},
   "outputs": [
    {
     "name": "stdout",
     "output_type": "stream",
     "text": [
      "total mean\n",
      "[[ 0.49408035  0.48503188  0.49670518]\n",
      " [ 0.49295237  0.49641412  0.51238468]\n",
      " [ 0.48979702  0.5091747   0.50774389]\n",
      " [ 0.47583748  0.51021223  0.50774218]]\n",
      "total var\n",
      "[[ 0.08825941  0.08361924  0.07953972]\n",
      " [ 0.08204253  0.08275827  0.08462381]\n",
      " [ 0.08397126  0.08090412  0.08093979]\n",
      " [ 0.0821092   0.08374404  0.08350601]]\n",
      "total weight\n",
      "[[ 1000.  1000.  1000.]\n",
      " [ 1000.  1000.  1000.]\n",
      " [ 1000.  1000.  1000.]\n",
      " [ 1000.  1000.  1000.]]\n"
     ]
    }
   ],
   "source": [
    "print('total mean')\n",
    "print(rs.mean())\n",
    "\n",
    "print('total var')\n",
    "print(rs.var())\n",
    "\n",
    "print('total weight')\n",
    "print(rs.weight())\n",
    "\n",
    "np.testing.assert_allclose(rs.weight(), Xa.shape[0])\n",
    "np.testing.assert_allclose(rs.mean(), Xa.mean(axis=0))\n",
    "np.testing.assert_allclose(rs.var(), Xa.var(axis=0))"
   ]
  },
  {
   "cell_type": "markdown",
   "metadata": {},
   "source": [
    "## covariance"
   ]
  },
  {
   "cell_type": "markdown",
   "metadata": {},
   "source": [
    "Note that `numpy.cov` only handles a single variable dimension.  pavey includes a routine to handle arbitrary dimensions."
   ]
  },
  {
   "cell_type": "code",
   "execution_count": 91,
   "metadata": {},
   "outputs": [
    {
     "name": "stdout",
     "output_type": "stream",
     "text": [
      "(4, 3, 4, 3)\n"
     ]
    }
   ],
   "source": [
    "cov = pavey.cov_nd(Xa, axis=0)\n",
    "print(cov.shape)"
   ]
  },
  {
   "cell_type": "code",
   "execution_count": 92,
   "metadata": {
    "collapsed": true
   },
   "outputs": [],
   "source": [
    "c_cov = [pavey.cov_nd(x, axis=0) for x in X]"
   ]
  },
  {
   "cell_type": "markdown",
   "metadata": {},
   "source": [
    "### stream"
   ]
  },
  {
   "cell_type": "code",
   "execution_count": 99,
   "metadata": {},
   "outputs": [],
   "source": [
    "rs = pavey.RunningStatsVecCov(shape=(4,3))\n",
    "\n",
    "for (w, m, c) in zip(c_weight, c_mean, c_cov):\n",
    "    rs.push_stat(w=w, a=m, v=c)"
   ]
  },
  {
   "cell_type": "code",
   "execution_count": 100,
   "metadata": {},
   "outputs": [
    {
     "name": "stdout",
     "output_type": "stream",
     "text": [
      "total mean\n",
      "[[ 0.49408035  0.48503188  0.49670518]\n",
      " [ 0.49295237  0.49641412  0.51238468]\n",
      " [ 0.48979702  0.5091747   0.50774389]\n",
      " [ 0.47583748  0.51021223  0.50774218]]\n",
      "total var\n",
      "[[ 0.08825941  0.08361924  0.07953972]\n",
      " [ 0.08204253  0.08275827  0.08462381]\n",
      " [ 0.08397126  0.08090412  0.08093979]\n",
      " [ 0.0821092   0.08374404  0.08350601]]\n",
      "total weight\n",
      "[[ 1000.  1000.  1000.]\n",
      " [ 1000.  1000.  1000.]\n",
      " [ 1000.  1000.  1000.]\n",
      " [ 1000.  1000.  1000.]]\n"
     ]
    }
   ],
   "source": [
    "print('total mean')\n",
    "print(rs.mean())\n",
    "\n",
    "print('total var')\n",
    "print(rs.var())\n",
    "\n",
    "print('total weight')\n",
    "print(rs.weight())\n",
    "\n",
    "np.testing.assert_allclose(rs.weight(), Xa.shape[0])\n",
    "np.testing.assert_allclose(rs.mean(), Xa.mean(axis=0))\n",
    "np.testing.assert_allclose(rs.var(), Xa.var(axis=0))\n",
    "\n",
    "# final test is on cov\n",
    "np.testing.assert_allclose(rs.cov(), cov)"
   ]
  },
  {
   "cell_type": "markdown",
   "metadata": {},
   "source": [
    "### one go"
   ]
  },
  {
   "cell_type": "code",
   "execution_count": 101,
   "metadata": {
    "collapsed": true
   },
   "outputs": [],
   "source": [
    "rs = pavey.RunningStatsVecCov(shape=(4,3))\n",
    "rs.push_stats(w=c_weight, a=c_mean, v=c_cov)"
   ]
  },
  {
   "cell_type": "code",
   "execution_count": 102,
   "metadata": {},
   "outputs": [
    {
     "name": "stdout",
     "output_type": "stream",
     "text": [
      "total mean\n",
      "[[ 0.49408035  0.48503188  0.49670518]\n",
      " [ 0.49295237  0.49641412  0.51238468]\n",
      " [ 0.48979702  0.5091747   0.50774389]\n",
      " [ 0.47583748  0.51021223  0.50774218]]\n",
      "total var\n",
      "[[ 0.08825941  0.08361924  0.07953972]\n",
      " [ 0.08204253  0.08275827  0.08462381]\n",
      " [ 0.08397126  0.08090412  0.08093979]\n",
      " [ 0.0821092   0.08374404  0.08350601]]\n",
      "total weight\n",
      "[[ 1000.  1000.  1000.]\n",
      " [ 1000.  1000.  1000.]\n",
      " [ 1000.  1000.  1000.]\n",
      " [ 1000.  1000.  1000.]]\n"
     ]
    }
   ],
   "source": [
    "print('total mean')\n",
    "print(rs.mean())\n",
    "\n",
    "print('total var')\n",
    "print(rs.var())\n",
    "\n",
    "print('total weight')\n",
    "print(rs.weight())\n",
    "\n",
    "np.testing.assert_allclose(rs.weight(), Xa.shape[0])\n",
    "np.testing.assert_allclose(rs.mean(), Xa.mean(axis=0))\n",
    "np.testing.assert_allclose(rs.var(), Xa.var(axis=0))\n",
    "\n",
    "# final test is on cov\n",
    "np.testing.assert_allclose(rs.cov(), cov)"
   ]
  },
  {
   "cell_type": "markdown",
   "metadata": {},
   "source": [
    "# Block averages\n",
    "\n",
    "* Suppose the synthetic data above is from a simulation.\n",
    "* We'd like to perform block averages on the data.\n",
    "* That is, combine the data from sampel 0 and 1, 2 and 3, ....\n",
    "* repeat\n"
   ]
  },
  {
   "cell_type": "code",
   "execution_count": 115,
   "metadata": {},
   "outputs": [],
   "source": [
    "blocker = pavey.RunningStatsList.from_stats(w=np.array(c_weight), a=np.array(c_mean), var=np.array(c_var), axis=0)"
   ]
  },
  {
   "cell_type": "code",
   "execution_count": 116,
   "metadata": {},
   "outputs": [
    {
     "data": {
      "text/plain": [
       "(84,)"
      ]
     },
     "execution_count": 116,
     "metadata": {},
     "output_type": "execute_result"
    }
   ],
   "source": [
    "blocker.shape"
   ]
  },
  {
   "cell_type": "code",
   "execution_count": 139,
   "metadata": {},
   "outputs": [
    {
     "name": "stdout",
     "output_type": "stream",
     "text": [
      "total mean\n",
      "[[ 0.49408035  0.48503188  0.49670518]\n",
      " [ 0.49295237  0.49641412  0.51238468]\n",
      " [ 0.48979702  0.5091747   0.50774389]\n",
      " [ 0.47583748  0.51021223  0.50774218]]\n",
      "total var\n",
      "[[ 0.08825941  0.08361924  0.07953972]\n",
      " [ 0.08204253  0.08275827  0.08462381]\n",
      " [ 0.08397126  0.08090412  0.08093979]\n",
      " [ 0.0821092   0.08374404  0.08350601]]\n",
      "total weight\n",
      "[[ 1000.  1000.  1000.]\n",
      " [ 1000.  1000.  1000.]\n",
      " [ 1000.  1000.  1000.]\n",
      " [ 1000.  1000.  1000.]]\n"
     ]
    }
   ],
   "source": [
    "# combine into single sample\n",
    "out = blocker.combine(block_size=None)\n",
    "\n",
    "rs = out[0]\n",
    "\n",
    "print('total mean')\n",
    "print(rs.mean())\n",
    "\n",
    "print('total var')\n",
    "print(rs.var())\n",
    "\n",
    "print('total weight')\n",
    "print(rs.weight())\n",
    "\n",
    "np.testing.assert_allclose(rs.weight(), Xa.shape[0])\n",
    "np.testing.assert_allclose(rs.mean(), Xa.mean(axis=0))\n",
    "np.testing.assert_allclose(rs.var(), Xa.var(axis=0))\n",
    "\n",
    "# final test is on cov\n",
    "#np.testing.assert_allclose(rs.cov(), cov)"
   ]
  },
  {
   "cell_type": "code",
   "execution_count": 140,
   "metadata": {
    "collapsed": true
   },
   "outputs": [],
   "source": [
    "## Standard errors of statistics"
   ]
  },
  {
   "cell_type": "code",
   "execution_count": 141,
   "metadata": {},
   "outputs": [
    {
     "name": "stdout",
     "output_type": "stream",
     "text": [
      "[[ 0.00929754  0.00890924  0.00873288]\n",
      " [ 0.00891848  0.01008172  0.01040513]\n",
      " [ 0.0091682   0.00903575  0.0093628 ]\n",
      " [ 0.00770296  0.00930417  0.00851316]]\n"
     ]
    }
   ],
   "source": [
    "print(blocker.mean_SEM())"
   ]
  },
  {
   "cell_type": "code",
   "execution_count": 142,
   "metadata": {},
   "outputs": [
    {
     "name": "stdout",
     "output_type": "stream",
     "text": [
      "[[ 0.00278505  0.00221365  0.00236944]\n",
      " [ 0.00231612  0.00240477  0.00240101]\n",
      " [ 0.00228664  0.00260172  0.00235317]\n",
      " [ 0.00229372  0.00207687  0.00290443]]\n"
     ]
    }
   ],
   "source": [
    "print(blocker.var_SEM())"
   ]
  },
  {
   "cell_type": "markdown",
   "metadata": {},
   "source": [
    "### combine nearest two samples"
   ]
  },
  {
   "cell_type": "code",
   "execution_count": 149,
   "metadata": {
    "collapsed": true
   },
   "outputs": [],
   "source": [
    "blocker2 = blocker.combine(block_size=2)"
   ]
  },
  {
   "cell_type": "code",
   "execution_count": 153,
   "metadata": {},
   "outputs": [
    {
     "data": {
      "text/plain": [
       "(42,)"
      ]
     },
     "execution_count": 153,
     "metadata": {},
     "output_type": "execute_result"
    }
   ],
   "source": [
    "blocker2.shape"
   ]
  },
  {
   "cell_type": "code",
   "execution_count": 154,
   "metadata": {},
   "outputs": [
    {
     "name": "stdout",
     "output_type": "stream",
     "text": [
      "[[ 0.0081124   0.00858759  0.00892054]\n",
      " [ 0.01009812  0.01070748  0.01042609]\n",
      " [ 0.00923334  0.00987257  0.00911865]\n",
      " [ 0.00777031  0.00916571  0.00848954]]\n"
     ]
    }
   ],
   "source": [
    "print(blocker2.mean_SEM())"
   ]
  },
  {
   "cell_type": "code",
   "execution_count": 156,
   "metadata": {
    "collapsed": true
   },
   "outputs": [],
   "source": [
    "## again\n",
    "\n",
    "blocker4a = blocker.combine(block_size=4)\n",
    "blocker4b = blocker2.combine(block_size=2)"
   ]
  },
  {
   "cell_type": "code",
   "execution_count": 158,
   "metadata": {},
   "outputs": [
    {
     "name": "stdout",
     "output_type": "stream",
     "text": [
      "(21,)\n",
      "(21,)\n"
     ]
    }
   ],
   "source": [
    "print(blocker4a.shape)\n",
    "print(blocker4b.shape)"
   ]
  },
  {
   "cell_type": "code",
   "execution_count": 160,
   "metadata": {},
   "outputs": [
    {
     "name": "stdout",
     "output_type": "stream",
     "text": [
      "[[ 0.00797114  0.01003843  0.00991918]\n",
      " [ 0.01124391  0.01129885  0.00774526]\n",
      " [ 0.00959625  0.00579277  0.01017249]\n",
      " [ 0.00873978  0.00991927  0.00874668]]\n"
     ]
    }
   ],
   "source": [
    "print(blocker4a.mean_SEM())"
   ]
  },
  {
   "cell_type": "code",
   "execution_count": 161,
   "metadata": {},
   "outputs": [
    {
     "name": "stdout",
     "output_type": "stream",
     "text": [
      "[[ 0.00797114  0.01003843  0.00991918]\n",
      " [ 0.01124391  0.01129885  0.00774526]\n",
      " [ 0.00959625  0.00579277  0.01017249]\n",
      " [ 0.00873978  0.00991927  0.00874668]]\n"
     ]
    }
   ],
   "source": [
    "print(blocker4b.mean_SEM())"
   ]
  },
  {
   "cell_type": "code",
   "execution_count": null,
   "metadata": {
    "collapsed": true
   },
   "outputs": [],
   "source": []
  }
 ],
 "metadata": {
  "kernelspec": {
   "display_name": "Python [conda root]",
   "language": "python",
   "name": "conda-root-py"
  },
  "language_info": {
   "codemirror_mode": {
    "name": "ipython",
    "version": 2
   },
   "file_extension": ".py",
   "mimetype": "text/x-python",
   "name": "python",
   "nbconvert_exporter": "python",
   "pygments_lexer": "ipython2",
   "version": "2.7.13"
  },
  "toc": {
   "colors": {
    "hover_highlight": "#DAA520",
    "running_highlight": "#FF0000",
    "selected_highlight": "#FFD700"
   },
   "moveMenuLeft": true,
   "nav_menu": {
    "height": "228px",
    "width": "252px"
   },
   "navigate_menu": true,
   "number_sections": true,
   "sideBar": true,
   "threshold": 4,
   "toc_cell": false,
   "toc_section_display": "block",
   "toc_window_display": false,
   "widenNotebook": false
  }
 },
 "nbformat": 4,
 "nbformat_minor": 2
}
