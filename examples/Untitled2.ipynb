{
 "cells": [
  {
   "cell_type": "code",
   "execution_count": 1,
   "metadata": {
    "collapsed": true
   },
   "outputs": [],
   "source": [
    "import pavey as RS\n",
    "import numpy as np\n",
    "import random\n",
    "\n",
    "def build_random_sample(X,samp_axis,min_chunk=4,max_chunk=20,shuffle=True):\n",
    "\n",
    "    nsamp = X.shape[samp_axis]\n",
    "    \n",
    "    idx = np.arange(nsamp)\n",
    "    if shuffle:\n",
    "        np.random.shuffle(idx)\n",
    "    \n",
    "    \n",
    "        \n",
    "    i0=0\n",
    "    i1=np.random.randint(min_chunk,max_chunk)\n",
    "    XA = []\n",
    "    while True:\n",
    "        XA.append(np.take(X,idx[i0:i1],axis=samp_axis))\n",
    "        if i1==nsamp:\n",
    "            break\n",
    "        i0 = i1\n",
    "        i1 += np.random.randint(min_chunk,max_chunk)\n",
    "        i1 = min(nsamp,i1)\n",
    "        \n",
    "    return XA\n",
    "    \n",
    "    "
   ]
  },
  {
   "cell_type": "code",
   "execution_count": 19,
   "metadata": {
    "collapsed": true
   },
   "outputs": [],
   "source": [
    "axis = 0\n",
    "X = np.random.randn(1000,4,3)\n",
    "XA = build_random_sample(X,axis)\n",
    "\n",
    "\n",
    "ave = np.array([x.mean(axis=axis) for x in XA])\n",
    "var = np.array([x.var(axis=axis) for x in XA])\n",
    "wt = np.array([x.shape[axis] for x in XA])\n",
    "cov = np.array([RS.cov_nd(x,axis=axis,ddof=0) for x in XA])"
   ]
  },
  {
   "cell_type": "code",
   "execution_count": 20,
   "metadata": {},
   "outputs": [
    {
     "data": {
      "text/plain": [
       "(91, 4, 3, 4, 3)"
      ]
     },
     "execution_count": 20,
     "metadata": {},
     "output_type": "execute_result"
    }
   ],
   "source": []
  },
  {
   "cell_type": "code",
   "execution_count": 3,
   "metadata": {},
   "outputs": [
    {
     "data": {
      "text/plain": [
       "<module 'RunningStats' from '/Users/wpk/Documents/python/RunningStats/__init__.pyc'>"
      ]
     },
     "execution_count": 3,
     "metadata": {},
     "output_type": "execute_result"
    }
   ],
   "source": [
    "import RunningStats as RS\n",
    "reload(RS)"
   ]
  },
  {
   "cell_type": "code",
   "execution_count": 4,
   "metadata": {},
   "outputs": [],
   "source": [
    "r = RS.RunningStatsList.from_stats(wt, ave, var=var)"
   ]
  },
  {
   "cell_type": "code",
   "execution_count": 5,
   "metadata": {},
   "outputs": [],
   "source": [
    "r2 = [r.combine(x).mean_SEM() for x in range(1,20,2)]"
   ]
  },
  {
   "cell_type": "code",
   "execution_count": null,
   "metadata": {
    "collapsed": true
   },
   "outputs": [],
   "source": []
  },
  {
   "cell_type": "code",
   "execution_count": 9,
   "metadata": {},
   "outputs": [
    {
     "data": {
      "text/plain": [
       "array([ 0.03523887,  0.03365353,  0.03149257,  0.0327831 ,  0.03522335,\n",
       "        0.04427879,  0.04491904,  0.04500138,  0.03363014,  0.03794159])"
      ]
     },
     "execution_count": 9,
     "metadata": {},
     "output_type": "execute_result"
    }
   ],
   "source": [
    "np.array(r2)[:,0,0]"
   ]
  },
  {
   "cell_type": "code",
   "execution_count": 10,
   "metadata": {},
   "outputs": [
    {
     "ename": "AttributeError",
     "evalue": "'list' object has no attribute 'mean_SEM'",
     "output_type": "error",
     "traceback": [
      "\u001b[0;31m---------------------------------------------------------------------------\u001b[0m",
      "\u001b[0;31mAttributeError\u001b[0m                            Traceback (most recent call last)",
      "\u001b[0;32m<ipython-input-10-496289858cb6>\u001b[0m in \u001b[0;36m<module>\u001b[0;34m()\u001b[0m\n\u001b[0;32m----> 1\u001b[0;31m \u001b[0mr2\u001b[0m\u001b[0;34m.\u001b[0m\u001b[0mmean_SEM\u001b[0m\u001b[0;34m(\u001b[0m\u001b[0;34m)\u001b[0m\u001b[0;34m\u001b[0m\u001b[0m\n\u001b[0m",
      "\u001b[0;31mAttributeError\u001b[0m: 'list' object has no attribute 'mean_SEM'"
     ]
    }
   ],
   "source": [
    "r2.mean_SEM()"
   ]
  },
  {
   "cell_type": "code",
   "execution_count": 12,
   "metadata": {
    "collapsed": true
   },
   "outputs": [],
   "source": [
    "t = RS.RunningStatsVecCov(X.shape[1:])\n",
    "for i in range(ave.shape[0]):\n",
    "    t.push_stat(wt[i],ave[i],cov[i])"
   ]
  },
  {
   "cell_type": "code",
   "execution_count": 13,
   "metadata": {
    "collapsed": true
   },
   "outputs": [],
   "source": [
    "t2 = RS.RunningStatsVecCov.from_stats(wt, ave, cov)"
   ]
  },
  {
   "cell_type": "code",
   "execution_count": 14,
   "metadata": {
    "collapsed": true
   },
   "outputs": [],
   "source": [
    "t3 = RS.RunningStatsVecCov.from_vals(X)"
   ]
  },
  {
   "cell_type": "code",
   "execution_count": 15,
   "metadata": {},
   "outputs": [
    {
     "data": {
      "text/plain": [
       "<RunningStats.RunningStatsList at 0x10c942b10>"
      ]
     },
     "execution_count": 15,
     "metadata": {},
     "output_type": "execute_result"
    }
   ],
   "source": [
    "RS.RunningStatsList.from_stats_gen(RS.RunningStatsVecCov, wt, ave, cov, axis=0)"
   ]
  },
  {
   "cell_type": "code",
   "execution_count": 16,
   "metadata": {},
   "outputs": [],
   "source": [
    "tL = RS.RunningStatsList.from_stats(wt, ave, cov=cov)"
   ]
  },
  {
   "cell_type": "code",
   "execution_count": 17,
   "metadata": {},
   "outputs": [],
   "source": [
    "tt = tL.combine(None)"
   ]
  },
  {
   "cell_type": "code",
   "execution_count": 18,
   "metadata": {},
   "outputs": [
    {
     "data": {
      "text/plain": [
       "array([[[ 0.,  0.,  0.],\n",
       "        [ 0.,  0.,  0.],\n",
       "        [ 0.,  0.,  0.],\n",
       "        [ 0.,  0.,  0.]]])"
      ]
     },
     "execution_count": 18,
     "metadata": {},
     "output_type": "execute_result"
    }
   ],
   "source": [
    "tt.var() - t.var()"
   ]
  },
  {
   "cell_type": "code",
   "execution_count": null,
   "metadata": {
    "collapsed": true
   },
   "outputs": [],
   "source": []
  }
 ],
 "metadata": {
  "kernelspec": {
   "display_name": "Python [default]",
   "language": "python",
   "name": "python2"
  },
  "language_info": {
   "codemirror_mode": {
    "name": "ipython",
    "version": 2
   },
   "file_extension": ".py",
   "mimetype": "text/x-python",
   "name": "python",
   "nbconvert_exporter": "python",
   "pygments_lexer": "ipython2",
   "version": "2.7.13"
  },
  "toc": {
   "colors": {
    "hover_highlight": "#DAA520",
    "running_highlight": "#FF0000",
    "selected_highlight": "#FFD700"
   },
   "moveMenuLeft": true,
   "nav_menu": {
    "height": "12px",
    "width": "252px"
   },
   "navigate_menu": true,
   "number_sections": true,
   "sideBar": true,
   "threshold": 4,
   "toc_cell": false,
   "toc_section_display": "block",
   "toc_window_display": false,
   "widenNotebook": false
  }
 },
 "nbformat": 4,
 "nbformat_minor": 1
}
